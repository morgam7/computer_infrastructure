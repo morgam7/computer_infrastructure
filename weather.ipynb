{
 "cells": [
  {
   "cell_type": "code",
   "execution_count": null,
   "metadata": {},
   "outputs": [],
   "source": []
  },
  {
   "cell_type": "markdown",
   "metadata": {},
   "source": [
    "This is my notebook for the module Computer Infrastructure. I'll be outlining how I completed each task here."
   ]
  },
  {
   "cell_type": "markdown",
   "metadata": {},
   "source": [
    "Task 1: Creating a directory\n",
    "\n",
    "I used the mkdir command followed by the directory to make the directory.\n",
    "I then used the cd command to change into the data direcotry to make the subdirectories.\n",
    "I need to do more reasearch on how to do this all at once.\n",
    "\n",
    "Issues I had was that when I committed git did not recognise the empty directories. Git only sees files.\n",
    "So this was an interesting post about how to commit an empty directory:\n",
    "https://www.geeksforgeeks.org/how-to-add-an-empty-directory-to-a-git-repository/\n",
    "\n",
    "Links:\n",
    "https://mspoweruser.com/cmd-create-folder/\n",
    "https://learn.microsoft.com/en-us/windows-server/administration/windows-commands/mkdir\n",
    "\n",
    "post on how to create multiple directories:\n",
    "https://askubuntu.com/questions/731721/is-there-a-way-to-create-multiple-directories-at-once-with-mkdir\n",
    "\n",
    "post on how to do this in python \n",
    "https://www.freecodecamp.org/news/creating-a-directory-in-python-how-to-create-a-folder/"
   ]
  },
  {
   "cell_type": "markdown",
   "metadata": {},
   "source": [
    "Task 2: Timestamps\n",
    "\n",
    "I used the date command to output the current date and time, appending the output to a file named now.txt, making sure to use the >> operator to append (not overwrite) the file. \n",
    "I repeates this step ten times and used the more command to verify that now.txt has the expected content.\n",
    "\n",
    "I used the mkdir command followed by the directory to make the directory now.txt\n",
    "\n",
    "https://learn.microsoft.com/en-us/windows-server/administration/windows-commands/date\n",
    "\n",
    "creating files:\n",
    "https://www.redhat.com/sysadmin/create-delete-files-directories-linux\n",
    "\n",
    "issues around using touch in powershell\n",
    "https://stackoverflow.com/questions/67659993/touch-command-not-working-what-should-i-use-instead/67665941#67665941\n",
    "\n",
    "changing default terminal\n",
    "https://stackoverflow.com/questions/69040449/how-to-change-default-terminal-in-vs-code\n",
    "\n",
    "I had issues around using more too.\n"
   ]
  }
 ],
 "metadata": {
  "language_info": {
   "name": "python"
  }
 },
 "nbformat": 4,
 "nbformat_minor": 2
}
