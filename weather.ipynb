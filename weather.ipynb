{
 "cells": [
  {
   "cell_type": "code",
   "execution_count": null,
   "metadata": {},
   "outputs": [],
   "source": []
  },
  {
   "cell_type": "markdown",
   "metadata": {},
   "source": [
    "This is my notebook for the module Computer Infrastructure. I'll be outlining how I completed each task here."
   ]
  },
  {
   "cell_type": "markdown",
   "metadata": {},
   "source": [
    "Task 1: Creating a directory\n",
    "\n",
    "I used the mkdir command followed by the directory to make the directory.\n",
    "I then used the cd command to change into the data direcotry to make the subdirectories.\n",
    "I need to do more reasearch on how to do this all at once.\n",
    "\n",
    "Issues I had was that when I committed git did not recognise the empty directories. Git only sees files.\n",
    "So this was an interesting post about how to commit an empty directory:\n",
    "https://www.geeksforgeeks.org/how-to-add-an-empty-directory-to-a-git-repository/\n",
    "\n",
    "Links:\n",
    "https://mspoweruser.com/cmd-create-folder/\n",
    "https://learn.microsoft.com/en-us/windows-server/administration/windows-commands/mkdir\n",
    "\n",
    "post on how to create multiple directories:\n",
    "https://askubuntu.com/questions/731721/is-there-a-way-to-create-multiple-directories-at-once-with-mkdir\n",
    "\n",
    "post on how to do this in python \n",
    "https://www.freecodecamp.org/news/creating-a-directory-in-python-how-to-create-a-folder/"
   ]
  }
 ],
 "metadata": {
  "language_info": {
   "name": "python"
  }
 },
 "nbformat": 4,
 "nbformat_minor": 2
}
