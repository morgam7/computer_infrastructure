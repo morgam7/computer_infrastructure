{
 "cells": [
  {
   "cell_type": "markdown",
   "metadata": {},
   "source": [
    "# Computer Infrastructure - Weather Data Automation  \n",
    "**Author:** Marcella Morgan  \n",
    "\n",
    "This notebook outlines the tasks I completed for the Computer Infrastructure module of the [Higher Diploma in Science in Data Analytics given by ATU Galway-Mayo](https://www.gmit.ie/higher-diploma-in-science-in-computing-in-data-analytics). My lecturer was [Ian McLoughlin](https://github.com/ianmcloughlin). The module focuses on three main areas:\n",
    "\n",
    "1. **Command Line Tools**: Learning and using commands to manipulate files, create directories, and work with data.  \n",
    "2. **Bash Scripting**: Automating repetitive tasks, such as downloading weather data and saving it with timestamps.  \n",
    "3. **Automation with GitHub Actions**: Setting up a workflow that runs the script daily and commits the results back to my repository.  \n",
    "\n",
    "Each task builds on the last, starting with simple commands and leading up to an automated solution. Along the way, I ran into a few challenges, from Git ignoring empty folders to formatting timestamps and learning how to make scripts executable.  \n",
    "\n",
    "I’ll go through each task, explaining the commands, what they do, and how I tackled any issues I ran into.  \n"
   ]
  },
  {
   "cell_type": "markdown",
   "metadata": {},
   "source": [
    "## Task 1: Creating a Directory Structure  \n",
    "\n",
    "I used the `mkdir` command to create a main directory called `data`, with two subdirectories: `timestamps` and `weather`. To move between directories, I used `cd`.  \n",
    "\n",
    "**Issue**: Git doesn’t recognise empty directories, which was really confusing at first. After some searching, I found out you need to add a placeholder file to commit an empty directory.  \n",
    "\n",
    "**Useful Link**:  \n",
    "[How to add empty directories in Git](https://www.geeksforgeeks.org/how-to-add-an-empty-directory-to-a-git-repository/)\n",
    "\n",
    "\n",
    "Other Links:\n",
    "https://mspoweruser.com/cmd-create-folder/\n",
    "https://learn.microsoft.com/en-us/windows-server/administration/windows-commands/mkdir\n",
    "\n",
    "post on how to create multiple directories:\n",
    "https://askubuntu.com/questions/731721/is-there-a-way-to-create-multiple-directories-at-once-with-mkdir\n",
    "\n",
    "post on how to do this in python \n",
    "https://www.freecodecamp.org/news/creating-a-directory-in-python-how-to-create-a-folder/"
   ]
  },
  {
   "cell_type": "markdown",
   "metadata": {},
   "source": [
    "Task 2: Timestamps\n",
    "\n",
    "I used the date command to output the current date and time, appending the output to a file named now.txt, making sure to use the >> operator to append (not overwrite) the file. \n",
    "I repeates this step ten times and used the more command to verify that now.txt has the expected content.\n",
    "\n",
    "I used the mkdir command followed by the directory to make the directory now.txt\n",
    "\n",
    "https://learn.microsoft.com/en-us/windows-server/administration/windows-commands/date\n",
    "\n",
    "creating files:\n",
    "https://www.redhat.com/sysadmin/create-delete-files-directories-linux\n",
    "\n",
    "issues around using touch in powershell\n",
    "https://stackoverflow.com/questions/67659993/touch-command-not-working-what-should-i-use-instead/67665941#67665941\n",
    "\n",
    "changing default terminal\n",
    "https://stackoverflow.com/questions/69040449/how-to-change-default-terminal-in-vs-code\n",
    "\n",
    "I had issues around using more too.\n"
   ]
  },
  {
   "cell_type": "markdown",
   "metadata": {},
   "source": [
    "Task 3: Formatting Timestamps\n",
    "\n",
    "Issues with acessing manual with man date. Had to use --help command instead\n",
    "\n",
    "\n",
    "https://stackoverflow.com/questions/51262422/git-bash-no-man-command"
   ]
  },
  {
   "cell_type": "markdown",
   "metadata": {},
   "source": [
    "Task 4: Create Timestamped Files\n",
    "\n"
   ]
  }
 ],
 "metadata": {
  "language_info": {
   "name": "python"
  }
 },
 "nbformat": 4,
 "nbformat_minor": 2
}
